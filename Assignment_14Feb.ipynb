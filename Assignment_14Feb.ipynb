{
 "cells": [
  {
   "cell_type": "markdown",
   "id": "7c3de6f6-0707-4bc6-ae9d-63f7066feeac",
   "metadata": {},
   "source": [
    "Q1. What is multithreading in python? Why is it used? Name the module used to handle threads in python. \n",
    "A1. Multithreading is defined as the ability of a processor to execute multiple threads concurrently. In a simple, single-core CPU, it is achieved using frequent switching between threads. This is termed context switching. In context switching, the state of a thread is saved and the state of another thread is loaded whenever any interrupt (due to I/O or manually set) takes place. Context switching takes place so frequently that all the threads appear to be running parallelly. In Python, the threading module provides a very simple and intuitive API for spawning multiple threads in a program. "
   ]
  },
  {
   "cell_type": "code",
   "execution_count": 1,
   "id": "3254829e-0c2a-45f1-92bc-7c239e370943",
   "metadata": {},
   "outputs": [],
   "source": [
    "import threading"
   ]
  },
  {
   "cell_type": "markdown",
   "id": "63ee5b9a-36c7-4033-9254-9e60e4581fd1",
   "metadata": {},
   "source": [
    "Q2. Why threading module used? Write the use of the following functions:\n",
    "A2. In Python, the threading module provides a very simple and intuitive API for spawning multiple threads in a program. \n",
    "1. activeCount(): In Python, the method threading.active_co unt() from the threading module is used to count the currently active or running threads.\n",
    "2. currentThread(): current_thread() is an inbuilt method of the threading module, it is used to return the current Thread object, which corresponds to the caller's thread of control.\n",
    "3. enumerate(): The enumerate () method adds a counter to an iterable and returns it in the form of an enumerating object. This enumerated object can then be used directly for loops or converted into a list of tuples using the list() function."
   ]
  },
  {
   "cell_type": "code",
   "execution_count": 3,
   "id": "5669542c-d509-4e6b-9059-8c0817a19950",
   "metadata": {},
   "outputs": [
    {
     "data": {
      "text/plain": [
       "8"
      ]
     },
     "execution_count": 3,
     "metadata": {},
     "output_type": "execute_result"
    }
   ],
   "source": [
    "#syntax activeCount()\n",
    "threading.active_count()"
   ]
  },
  {
   "cell_type": "code",
   "execution_count": 6,
   "id": "4337a14d-a99c-4437-be4e-67b1f5e59234",
   "metadata": {},
   "outputs": [
    {
     "data": {
      "text/plain": [
       "<_MainThread(MainThread, started 140328259200832)>"
      ]
     },
     "execution_count": 6,
     "metadata": {},
     "output_type": "execute_result"
    }
   ],
   "source": [
    "#syntax currentThread()\n",
    "threading.current_thread()"
   ]
  },
  {
   "cell_type": "code",
   "execution_count": 9,
   "id": "92ebdbc6-31b5-4c16-a53e-2ac19a6623ba",
   "metadata": {},
   "outputs": [
    {
     "name": "stdout",
     "output_type": "stream",
     "text": [
      "Next Element: (0, 'apple')\n"
     ]
    }
   ],
   "source": [
    "#enumerate()\n",
    "fruits = ['apple', 'banana', 'cherry']\n",
    "enum_fruits = enumerate(fruits)\n",
    "\n",
    "next_element = next(enum_fruits)\n",
    "print(f\"Next Element: {next_element}\")"
   ]
  },
  {
   "cell_type": "markdown",
   "id": "1b2367da-7d80-4e42-bbb3-10039abcdf5a",
   "metadata": {},
   "source": [
    "Q3. Explain the following functions:\n",
    "1. run():The Thread.run() method is an inbuilt method of the Thread class of the threading module , it is used to represent a thread's activity. It calls the method expressed as the target argument in the Thread object along with the positional and keyword arguments taken from the args and kwargs arguments, respectively. This method can also be overridden in the subclass.\n",
    "2. start(): The Thread.start() method is an inbuilt method of the Thread class of the threading module, it is used to start a thread's activity. This method calls the run() method internally which then executes the target method. This method must be called at most one time for one thread. If it is called more than once, it raises a RuntimeError.\n",
    "3. join(): The Thread.join() method is an inbuilt method of the Thread class of the threading module. Whenever this method is called for any Thread object, it blocks the calling thread till the time the thread whose join() method is called terminates, either normally or through an unhandled exception.\n",
    "4. isAlive(): Return whether the thread is alive. This method returns True just before the run() method starts until just after the run() method terminates. The module function enumerate() returns a list of all alive threads."
   ]
  },
  {
   "cell_type": "code",
   "execution_count": 13,
   "id": "b07e6f42-1725-46b7-a624-cd68406f1845",
   "metadata": {},
   "outputs": [
    {
     "name": "stdout",
     "output_type": "stream",
     "text": [
      "Value by Thread 1: 1\n",
      "Value by Thread 2: 2\n",
      "Value by Thread 3: 3\n"
     ]
    }
   ],
   "source": [
    "#example run()\n",
    "import threading\n",
    "def thread_1(i):\n",
    "    print('Value by Thread 1:', i)\n",
    "def thread_2(i):\n",
    "    print('Value by Thread 2:', i)\n",
    "def thread_3(i):\n",
    "    print('Value by Thread 3:', i)    \n",
    "thread1 = threading.Thread(target=thread_1, args=(1,))\n",
    "thread2 = threading.Thread(target=thread_2, args=(2,))\n",
    "thread3 = threading.Thread(target=thread_3, args=(3,))\n",
    "thread1.run()\n",
    "thread2.run()\n",
    "thread3.run()"
   ]
  },
  {
   "cell_type": "code",
   "execution_count": 14,
   "id": "1a9e0fd0-f751-4aa4-99b0-662862425581",
   "metadata": {},
   "outputs": [
    {
     "name": "stdout",
     "output_type": "stream",
     "text": [
      "Value by Thread 2: 2\n",
      "Value by Thread 1: 1\n"
     ]
    }
   ],
   "source": [
    "#example start()\n",
    "import time\n",
    "import threading\n",
    "def thread_1(i):\n",
    "    time.sleep(5)\n",
    "    print('Value by Thread 1:', i)\n",
    "def thread_2(i):\n",
    "    print('Value by Thread 2:', i)\n",
    "thread1 = threading.Thread(target=thread_1, args=(1,))\n",
    "thread2 = threading.Thread(target=thread_2, args=(2,))\n",
    "thread1.start()\n",
    "thread2.start()"
   ]
  },
  {
   "cell_type": "code",
   "execution_count": 15,
   "id": "c889b2a0-2ed3-4582-9d5e-84133380f036",
   "metadata": {},
   "outputs": [
    {
     "name": "stdout",
     "output_type": "stream",
     "text": [
      "Value by Thread 1: 1\n",
      "Value by Thread 2: 2\n"
     ]
    }
   ],
   "source": [
    "#example join()\n",
    "import time\n",
    "import threading\n",
    "def thread_1(i):\n",
    "    time.sleep(2)\n",
    "    print('Value by Thread 1:', i)\n",
    "def thread_2(i):\n",
    "    time.sleep(5)\n",
    "    print('Value by Thread 2:', i)\n",
    "thread1 = threading.Thread(target=thread_1, args=(1,))\n",
    "thread2 = threading.Thread(target=thread_2, args=(2,))\n",
    "\n",
    "thread1.start()\n",
    "thread1.join(timeout=5)\n",
    "thread2.start()\n",
    "thread2.join()"
   ]
  },
  {
   "cell_type": "code",
   "execution_count": 16,
   "id": "60011122-570b-4049-a503-b6789d0874c8",
   "metadata": {},
   "outputs": [
    {
     "name": "stdout",
     "output_type": "stream",
     "text": [
      "Is thread1 alive: False\n",
      "Is thread2 alive: False\n",
      "\n",
      "Value by Thread 2: 2\n",
      "Is thread1 alive: True\n",
      "Is thread2 alive: False\n",
      "Value by Thread 1: 1\n"
     ]
    }
   ],
   "source": [
    "#example isAlive()\n",
    "import time\n",
    "import threading\n",
    "def thread_1(i):\n",
    "    time.sleep(5)\n",
    "    print('Value by Thread 1:', i)\n",
    "def thread_2(i):\n",
    "    print('Value by Thread 2:', i)\n",
    "thread1 = threading.Thread(target=thread_1, args=(1,))\n",
    "thread2 = threading.Thread(target=thread_2, args=(2,))\n",
    "print(\"Is thread1 alive:\", thread1.is_alive())\n",
    "print(\"Is thread2 alive:\", thread2.is_alive())\n",
    "print()\n",
    "\n",
    "thread1.start()\n",
    "thread2.start()\n",
    "\n",
    "print(\"Is thread1 alive:\", thread1.is_alive())\n",
    "print(\"Is thread2 alive:\", thread2.is_alive())"
   ]
  },
  {
   "cell_type": "markdown",
   "id": "4085520b-ea3d-4f45-8bc7-3ef8b0d15c8d",
   "metadata": {},
   "source": [
    "Q4. Write a python program to create two threads. Thread one must print the list of squares and thread\n",
    "two must print the list of cubes."
   ]
  },
  {
   "cell_type": "code",
   "execution_count": 37,
   "id": "cf433ae9-085e-4b33-a596-4ede2e3b67c6",
   "metadata": {},
   "outputs": [
    {
     "name": "stdout",
     "output_type": "stream",
     "text": [
      "Square: 1\n",
      "Square: 4\n",
      "Square: 9\n",
      "Square: 16\n",
      "Square: 25\n",
      "Square: 36\n",
      "Cube: 1\n",
      "Cube: 8\n",
      "Cube: 27\n",
      "Cube: 64\n",
      "Cube: 125\n",
      "Cube: 216\n"
     ]
    }
   ],
   "source": [
    "import threading\n",
    "def print_cube(num):\n",
    "    # function to print cube of given num\n",
    "    print(\"Cube: {}\" .format(num * num * num))\n",
    "\n",
    "def print_square(num):\n",
    "    # function to print square of given num\n",
    "    print(\"Square: {}\" .format(num * num))\n",
    "\n",
    "t1 = [threading.Thread(target=print_square, args=(i,)) for i in [1,2,3,4,5,6]]\n",
    "t2 = [threading.Thread(target=print_cube, args=(i,)) for i in [1,2,3,4,5,6]]\n",
    "for t in t1:\n",
    "    t.start()\n",
    "for t in t2:    \n",
    "    t.start()"
   ]
  },
  {
   "cell_type": "markdown",
   "id": "2a96bb79-4002-45d1-9d0c-e42cffd82184",
   "metadata": {},
   "source": [
    "Q5. State advantages and disadvantages of multithreading.\n",
    "A5. ADVANTAGES:\n",
    "1. Improved performance: Multithreading can help increase the overall performance of an application, especially on systems with multiple processors or cores. It allows multiple tasks to run concurrently, utilizing the available CPU resources more efficiently.\n",
    "2. Responsiveness: In a single-threaded environment, if a long-running task blocks the main thread, the entire application becomes unresponsive. Multithreading can prevent this issue by running such tasks in separate threads, ensuring the application remains responsive.\n",
    "3. Better resource utilization: Multithreading allows better utilization of system resources by keeping the CPU busy while waiting for I/O operations or other tasks to complete.\n",
    "4. Simplified modeling: Some problems can be more naturally modeled using multiple threads. This makes the program easier to design, understand, and maintain.\n",
    "5. Parallelism: Multithreading enables parallelism, which can lead to significant performance improvements in applications that can be divided into smaller, independent tasks.\n",
    "\n",
    "DISADVANTAGES:\n",
    "1. Complexity: Multithreading adds complexity to the program, making it more difficult to design, implement, and debug. Developers need to be aware of synchronization, deadlocks, race conditions, and other concurrency-related issues.\n",
    "2. Synchronization overhead: To avoid data corruption and maintain consistency, developers must synchronize access to shared resources, which can result in additional overhead and reduced performance.\n",
    "3. Context switching: Context switching between threads consumes CPU time and resources, which can lead to performance degradation if not managed efficiently.\n",
    "4. Hard to predict behavior: Due to the concurrent nature of multithreading, the behavior of the program can be hard to predict and reproduce, especially when it comes to debugging.\n",
    "5. Limited by hardware: The performance benefits of multithreading are limited by the number of available cores or processors in the system. In some cases, excessive use of threads can lead to performance degradation instead of improvement."
   ]
  },
  {
   "cell_type": "markdown",
   "id": "58e7d8c1-e386-4016-bc68-1426de6850e2",
   "metadata": {},
   "source": [
    "Q6. Explain deadlocks and race conditions.\n",
    "A6. Both share some similarities, such as they both occur in multi-thread solutions and hamper device performance. However, both are not the same.\n",
    "A race condition occurs when two threads use the same variable at a given time. Deadlock exists when two threads seek one lock simultaneously.  \n",
    "This situation will stop both threads from processing or executing the functions. In racing, two tasks compete with each other and try to complete a task before each other.\n",
    "In a deadlock, two processes are waiting and expecting the complementary process to complete the task."
   ]
  }
 ],
 "metadata": {
  "kernelspec": {
   "display_name": "Python 3 (ipykernel)",
   "language": "python",
   "name": "python3"
  },
  "language_info": {
   "codemirror_mode": {
    "name": "ipython",
    "version": 3
   },
   "file_extension": ".py",
   "mimetype": "text/x-python",
   "name": "python",
   "nbconvert_exporter": "python",
   "pygments_lexer": "ipython3",
   "version": "3.10.8"
  }
 },
 "nbformat": 4,
 "nbformat_minor": 5
}
